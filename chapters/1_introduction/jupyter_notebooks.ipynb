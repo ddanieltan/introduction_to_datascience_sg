{
 "cells": [
  {
   "cell_type": "markdown",
   "metadata": {},
   "source": [
    "[![Binder](https://mybinder.org/badge_logo.svg)](https://mybinder.org/v2/gh/ddanieltan/introduction_to_datascience_sg/master?urlpath=lab)"
   ]
  },
  {
   "cell_type": "markdown",
   "metadata": {},
   "source": [
    "# Jupyter Notebooks\n",
    "Jupyter notebooks are interactive environments where you can write and run Python code."
   ]
  },
  {
   "cell_type": "markdown",
   "metadata": {},
   "source": [
    "< Add screenshot of Jupyter notebook>"
   ]
  },
  {
   "cell_type": "markdown",
   "metadata": {},
   "source": [
    "## Code Cells"
   ]
  },
  {
   "cell_type": "code",
   "execution_count": 8,
   "metadata": {},
   "outputs": [
    {
     "name": "stdout",
     "output_type": "stream",
     "text": [
      "Welcome!\n"
     ]
    }
   ],
   "source": [
    "# This is a code cell\n",
    "# Select this code cell by clicking on it\n",
    "# Run this code cell by either clicking the 'Run button' above\n",
    "# or using the shortcut 'Shift-Enter'\n",
    "print('Welcome!')"
   ]
  },
  {
   "cell_type": "markdown",
   "metadata": {},
   "source": [
    "Every time we run a code block, Python will execute any code written, and if there's an output, it will print it after each code block."
   ]
  },
  {
   "cell_type": "code",
   "execution_count": 10,
   "metadata": {},
   "outputs": [
    {
     "data": {
      "text/plain": [
       "8"
      ]
     },
     "execution_count": 10,
     "metadata": {},
     "output_type": "execute_result"
    }
   ],
   "source": [
    "# If there are more than 1 line of python code within a code cell\n",
    "# Running the code cell, will output only the latest line of code\n",
    "\n",
    "1+3 \n",
    "2+4\n",
    "3+5 # This output will show"
   ]
  },
  {
   "cell_type": "markdown",
   "metadata": {},
   "source": [
    "## Comments"
   ]
  },
  {
   "cell_type": "code",
   "execution_count": 4,
   "metadata": {},
   "outputs": [],
   "source": [
    "# You might have noticed that some text in our code block \n",
    "# are shaded greenish-gray and are preceded by a # symbol\n",
    "# When you run this code block, you should see nothing happening."
   ]
  },
  {
   "cell_type": "markdown",
   "metadata": {},
   "source": [
    "These shaded words are **comments**.\n",
    "\n",
    "Comments are instructions ignored by our Python interpreter.\n",
    "Just like a real life notebook, you are encouraged to write down personal learning notes in comments as we go along."
   ]
  },
  {
   "cell_type": "code",
   "execution_count": 11,
   "metadata": {
    "tags": [
     "raises-exception"
    ]
   },
   "outputs": [
    {
     "ename": "SyntaxError",
     "evalue": "invalid syntax (<ipython-input-11-13824d4f2c20>, line 3)",
     "output_type": "error",
     "traceback": [
      "\u001b[0;36m  File \u001b[0;32m\"<ipython-input-11-13824d4f2c20>\"\u001b[0;36m, line \u001b[0;32m3\u001b[0m\n\u001b[0;31m    For example, running this code block should throw an error.\u001b[0m\n\u001b[0m              ^\u001b[0m\n\u001b[0;31mSyntaxError\u001b[0m\u001b[0;31m:\u001b[0m invalid syntax\n"
     ]
    }
   ],
   "source": [
    "# Python inteprets anything written after a '#' symbol is a comment\n",
    "# Python will attempt to interpret and run any line that doesn't start with a '#'\n",
    "For example, this line should throw an error."
   ]
  },
  {
   "cell_type": "markdown",
   "metadata": {},
   "source": [
    "## Errors\n",
    "Speaking of errors, as we continue to practice our programming, we'll be meeting a lot of these. \n",
    "Remember, these errors are a very common experience for any programmer so don't fret!\n",
    "\n",
    "Errors give us instant feedback on our code.\n",
    "Often (but not always), Python is even smart enough to identify which portion of our code is causing the error."
   ]
  },
  {
   "cell_type": "code",
   "execution_count": 16,
   "metadata": {
    "tags": [
     "raises-exception"
    ]
   },
   "outputs": [
    {
     "ename": "SyntaxError",
     "evalue": "Missing parentheses in call to 'print'. Did you mean print('What is wrong with this code?')? (<ipython-input-16-3e181984ee25>, line 1)",
     "output_type": "error",
     "traceback": [
      "\u001b[0;36m  File \u001b[0;32m\"<ipython-input-16-3e181984ee25>\"\u001b[0;36m, line \u001b[0;32m1\u001b[0m\n\u001b[0;31m    print 'What is wrong with this code?'\u001b[0m\n\u001b[0m                                        ^\u001b[0m\n\u001b[0;31mSyntaxError\u001b[0m\u001b[0;31m:\u001b[0m Missing parentheses in call to 'print'. Did you mean print('What is wrong with this code?')?\n"
     ]
    }
   ],
   "source": [
    "print 'What is wrong with this code?'"
   ]
  },
  {
   "cell_type": "markdown",
   "metadata": {},
   "source": [
    "### References\n",
    "- [Official Jupyterlab Documentation](https://jupyterlab.readthedocs.io/en/stable/user/interface.html)"
   ]
  },
  {
   "cell_type": "code",
   "execution_count": null,
   "metadata": {},
   "outputs": [],
   "source": []
  }
 ],
 "metadata": {
  "kernelspec": {
   "display_name": "Python 3",
   "language": "python",
   "name": "python3"
  },
  "language_info": {
   "codemirror_mode": {
    "name": "ipython",
    "version": 3
   },
   "file_extension": ".py",
   "mimetype": "text/x-python",
   "name": "python",
   "nbconvert_exporter": "python",
   "pygments_lexer": "ipython3",
   "version": "3.6.10"
  }
 },
 "nbformat": 4,
 "nbformat_minor": 4
}
